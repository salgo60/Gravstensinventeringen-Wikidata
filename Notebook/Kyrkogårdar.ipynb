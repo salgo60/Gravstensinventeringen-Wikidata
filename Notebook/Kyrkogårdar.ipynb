{
 "cells": [
  {
   "cell_type": "markdown",
   "id": "358f93ad",
   "metadata": {},
   "source": [
    "## Hämta klyrkogårdar för att koppla samma som\n",
    "\n",
    "* [GITHUB](https://github.com/salgo60/Gravstensinventeringen-Wikidata)\n",
    "* WIkidata [Property:P5259](https://www.wikidata.org/wiki/Property:P5259)\n"
   ]
  },
  {
   "cell_type": "code",
   "execution_count": 1,
   "id": "abd507e0",
   "metadata": {},
   "outputs": [
    {
     "name": "stdout",
     "output_type": "stream",
     "text": [
      "Last run:  2022-11-13 13:42:05.096564\n"
     ]
    }
   ],
   "source": [
    "from datetime import datetime\n",
    "start_time  = datetime.now()\n",
    "print(\"Last run: \", start_time)"
   ]
  },
  {
   "cell_type": "code",
   "execution_count": 22,
   "id": "7e7d2a16",
   "metadata": {},
   "outputs": [
    {
     "name": "stderr",
     "output_type": "stream",
     "text": [
      "100%|██████████| 3999/3999 [47:40<00:00,  1.40it/s]"
     ]
    },
    {
     "name": "stdout",
     "output_type": "stream",
     "text": [
      "3999  antal poster\n"
     ]
    },
    {
     "name": "stderr",
     "output_type": "stream",
     "text": [
      "\n"
     ]
    }
   ],
   "source": [
    "#https://kulturpersoner.uppsalakyrkogardar.se/galleri/\n",
    "import requests\n",
    "import urllib.request\n",
    "import time\n",
    "from tqdm import tqdm\n",
    "from bs4 import BeautifulSoup\n",
    "def cleanupstring(s):\n",
    "    out_s = s\n",
    "    while '  ' in out_s:\n",
    "        out_s = out_s.strip().replace('  ', ' ')\n",
    "    return out_s, len(s)-len(out_s)\n",
    "\n",
    "urlbase = \"https://www.rotter.se/gsi/begravningsplatser/\"\n",
    "\n",
    "newList = []\n",
    "\n",
    "for urlnr in tqdm(range(1,4000)):\n",
    "    url = urlbase + str(urlnr)\n",
    "    #print(url)\n",
    "    response = requests.get(url)\n",
    "    soup = BeautifulSoup(response.text, \"html.parser\")\n",
    "    #soup.findAll('h1')\n",
    "    one_h1_tag_text = soup.findAll('h1')[0].text\n",
    "    #print ( one_h1_tag_text )\n",
    "    newList.append([urlnr,one_h1_tag_text])\n",
    "    #time.sleep(1)\n",
    "    \n",
    "print (len(newList) ,\" antal poster\")"
   ]
  },
  {
   "cell_type": "code",
   "execution_count": 17,
   "id": "02c55938",
   "metadata": {},
   "outputs": [],
   "source": [
    "import pandas as pd\n",
    "df = pd.DataFrame(newList)\n",
    "df.to_csv(\"GravstensinvKyrkog.csv\")"
   ]
  },
  {
   "cell_type": "code",
   "execution_count": 23,
   "id": "e8422d35",
   "metadata": {},
   "outputs": [
    {
     "name": "stdout",
     "output_type": "stream",
     "text": [
      "Ended:  2022-11-13 14:47:29.335502\n",
      "Time elapsed (hh:mm:ss.ms) 1:05:24.239783\n"
     ]
    }
   ],
   "source": [
    "end = datetime.now()\n",
    "print(\"Ended: \", end)\n",
    "print('Time elapsed (hh:mm:ss.ms) {}'.format(datetime.now() - start_time))\n"
   ]
  },
  {
   "cell_type": "code",
   "execution_count": null,
   "id": "d12b55cb",
   "metadata": {},
   "outputs": [],
   "source": []
  }
 ],
 "metadata": {
  "kernelspec": {
   "display_name": "Python 3",
   "language": "python",
   "name": "python3"
  },
  "language_info": {
   "codemirror_mode": {
    "name": "ipython",
    "version": 3
   },
   "file_extension": ".py",
   "mimetype": "text/x-python",
   "name": "python",
   "nbconvert_exporter": "python",
   "pygments_lexer": "ipython3",
   "version": "3.9.13"
  }
 },
 "nbformat": 4,
 "nbformat_minor": 5
}
