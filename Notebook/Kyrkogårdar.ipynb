{
 "cells": [
  {
   "cell_type": "markdown",
   "id": "b1d8a68e",
   "metadata": {},
   "source": [
    "## Hämta kyrkogårdar för att koppla samma som\n",
    "\n",
    "* [GITHUB](https://github.com/salgo60/Gravstensinventeringen-Wikidata)\n",
    "* WIkidata [Property:P5259](https://www.wikidata.org/wiki/Property:P5259)\n"
   ]
  },
  {
   "cell_type": "code",
   "execution_count": 1,
   "id": "7e826577",
   "metadata": {},
   "outputs": [
    {
     "name": "stdout",
     "output_type": "stream",
     "text": [
      "Last run:  2022-11-19 21:18:34.731683\n"
     ]
    }
   ],
   "source": [
    "from datetime import datetime\n",
    "start_time  = datetime.now()\n",
    "print(\"Last run: \", start_time)"
   ]
  },
  {
   "cell_type": "code",
   "execution_count": 2,
   "id": "9e69772b",
   "metadata": {},
   "outputs": [],
   "source": [
    "class Gravplats: \n",
    "    def __init__(self, namn, url, gravid,lat, lon, kommun, lan, Wikidata):\n",
    "        self.namn = namn\n",
    "        self.url = url\n",
    "        self.gravid = gravid\n",
    "        self.lat = lat\n",
    "        self.lon = lon\n",
    "        self.kommun = kommun\n",
    "        self.lan = lan\n",
    "        self.wd = Wikidata\n",
    "        \n",
    "    def __repr__(self):\n",
    "        return f\"Grav: ({self.namn!r}, {self.gravid!r}, {self.url!r})\"\n",
    "\n",
    "    def __iter__(self):\n",
    "        return iter([self.namn, self.url, self.gravid, self.lat,\n",
    "                    self.lon, self.kommun, self.lan, self.wd])\n"
   ]
  },
  {
   "cell_type": "code",
   "execution_count": 3,
   "id": "1ca0218c",
   "metadata": {},
   "outputs": [],
   "source": [
    "import json\n",
    "def getWD (id):\n",
    "    \n",
    "    # https://hub.toolforge.org/P5259:begravningsplatser/512?format=json\n",
    "    baseurl = \"https://hub.toolforge.org/P5259:begravningsplatser/\"\n",
    "    huburl = baseurl + str(id) + \"?format=json\"\n",
    "    responseHub = requests.get(huburl)\n",
    "    hubJson = json.loads(responseHub.text)\n",
    "    \n",
    "    wd = \"\"\n",
    "    if \"origin\" in hubJson:\n",
    "        wd = hubJson[\"origin\"][\"qid\"]\n",
    "    #print(wd)\n",
    "    return wd"
   ]
  },
  {
   "cell_type": "code",
   "execution_count": 4,
   "id": "94cc7861",
   "metadata": {},
   "outputs": [
    {
     "name": "stderr",
     "output_type": "stream",
     "text": [
      "100%|██████████| 3699/3699 [1:14:45<00:00,  1.21s/it]"
     ]
    },
    {
     "name": "stdout",
     "output_type": "stream",
     "text": [
      "3464  antal poster\n"
     ]
    },
    {
     "name": "stderr",
     "output_type": "stream",
     "text": [
      "\n"
     ]
    }
   ],
   "source": [
    "import requests\n",
    "import urllib.request\n",
    "import time,re\n",
    "from tqdm import tqdm\n",
    "from bs4 import BeautifulSoup\n",
    "def cleanupstring(s):\n",
    "    out_s = s\n",
    "    while '  ' in out_s:\n",
    "        out_s = out_s.strip().replace('  ', ' ')\n",
    "    return out_s, len(s)-len(out_s)\n",
    "\n",
    "urlbase = \"https://www.rotter.se/gsi/begravningsplatser/\"\n",
    "\n",
    "target_string = \"?.*\"\n",
    "\n",
    "newList = []\n",
    "errorList = []\n",
    "for urlnr in tqdm(range(1,3700)):\n",
    "    url = urlbase + str(urlnr)\n",
    "    response = requests.get(url)\n",
    "    try:\n",
    "        soup = BeautifulSoup(response.text, \"html.parser\")\n",
    "        g_namn = soup.findAll('h1')[0].text\n",
    "        scriptLat = soup.find_all('script')[27]\n",
    "\n",
    "        # position: { lat: 58.02754100, lng: 14.66873800 },\n",
    "        pattern = re.compile(r\"lat : ...\", re.MULTILINE | re.DOTALL)\n",
    "        patternLat = re.compile(r\"lat(.*)}\", re.DOTALL)\n",
    "        patternKommun = re.compile(r\"(.*),kommun\", re.DOTALL)\n",
    "\n",
    "        scriptParse = re.split(patternLat, str(scriptLat))\n",
    "        glat = scriptParse[1][1:13]\n",
    "        glon =  scriptParse[1][20:31]\n",
    "\n",
    "        stringKommun = soup.find_all('h1')[0].find_all_next(text=True)[4]\n",
    "\n",
    "\n",
    "        kommun = stringKommun.split(\",\")[0]\n",
    "        lan = stringKommun.split(\",\")[1]\n",
    "        wd = getWD(urlnr)\n",
    "        gravplats = Gravplats(g_namn,url,urlnr,glat,glon,kommun,lan,wd)\n",
    "        newList.append(gravplats)\n",
    "    except :\n",
    "        #print(\"error \" + url)\n",
    "        errorList.append(url)\n",
    "    #time.sleep(1)\n",
    "    \n",
    "print (len(newList) ,\" antal poster\")"
   ]
  },
  {
   "cell_type": "code",
   "execution_count": 5,
   "id": "743cca98",
   "metadata": {},
   "outputs": [],
   "source": [
    "#newList"
   ]
  },
  {
   "cell_type": "code",
   "execution_count": 6,
   "id": "75b56a9d",
   "metadata": {},
   "outputs": [],
   "source": [
    "import pandas as pd\n",
    "df = pd.DataFrame(newList)\n",
    "df.to_csv(\"GravstensinvKyrkog2.csv\")"
   ]
  },
  {
   "cell_type": "code",
   "execution_count": 7,
   "id": "d179dbb6",
   "metadata": {},
   "outputs": [],
   "source": [
    "#df.tail"
   ]
  },
  {
   "cell_type": "code",
   "execution_count": 8,
   "id": "cd538c1e",
   "metadata": {},
   "outputs": [],
   "source": [
    "dfE = pd.DataFrame(errorList)\n",
    "dfE.to_csv(\"GravstensinvKyrkog_error.csv\")"
   ]
  },
  {
   "cell_type": "code",
   "execution_count": 9,
   "id": "16b327d2",
   "metadata": {},
   "outputs": [],
   "source": [
    "#newList"
   ]
  },
  {
   "cell_type": "code",
   "execution_count": 10,
   "id": "17077a10",
   "metadata": {},
   "outputs": [
    {
     "name": "stdout",
     "output_type": "stream",
     "text": [
      "Ended:  2022-11-19 22:33:20.925618\n",
      "Time elapsed (hh:mm:ss.ms) 1:14:46.194367\n"
     ]
    }
   ],
   "source": [
    "end = datetime.now()\n",
    "print(\"Ended: \", end)\n",
    "print('Time elapsed (hh:mm:ss.ms) {}'.format(datetime.now() - start_time))\n"
   ]
  },
  {
   "cell_type": "code",
   "execution_count": null,
   "id": "a523fe6d",
   "metadata": {},
   "outputs": [],
   "source": []
  }
 ],
 "metadata": {
  "kernelspec": {
   "display_name": "Python 3",
   "language": "python",
   "name": "python3"
  },
  "language_info": {
   "codemirror_mode": {
    "name": "ipython",
    "version": 3
   },
   "file_extension": ".py",
   "mimetype": "text/x-python",
   "name": "python",
   "nbconvert_exporter": "python",
   "pygments_lexer": "ipython3",
   "version": "3.9.13"
  }
 },
 "nbformat": 4,
 "nbformat_minor": 5
}
