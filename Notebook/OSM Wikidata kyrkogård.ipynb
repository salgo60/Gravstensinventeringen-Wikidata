{
 "cells": [
  {
   "cell_type": "markdown",
   "id": "102cf5a9",
   "metadata": {},
   "source": [
    "Get all Swedish cemeteries and check OSM\n",
    "* [This Notebook](https://github.com/salgo60/Gravstensinventeringen-Wikidata/blob/main/Notebook/OSM%20Wikidata%20kyrkog%C3%A5rd.ipynb)\n",
    "* [Video](https://youtu.be/EDkPoomRmJg)\n"
   ]
  },
  {
   "cell_type": "code",
   "execution_count": 1,
   "id": "35dc7b96",
   "metadata": {},
   "outputs": [
    {
     "name": "stdout",
     "output_type": "stream",
     "text": [
      "Last run:  2023-01-13 14:23:30.714440\n"
     ]
    }
   ],
   "source": [
    "from datetime import datetime\n",
    "start_time  = datetime.now()\n",
    "print(\"Last run: \", start_time)"
   ]
  },
  {
   "cell_type": "code",
   "execution_count": 2,
   "id": "fa2b009e",
   "metadata": {},
   "outputs": [
    {
     "data": {
      "text/plain": [
       "(3489, 4)"
      ]
     },
     "execution_count": 2,
     "metadata": {},
     "output_type": "execute_result"
    }
   ],
   "source": [
    "import pandas as pd\n",
    "#\n",
    "# pip install sparqlwrapper\n",
    "# https://rdflib.github.io/sparqlwrapper/\n",
    "\n",
    "import sys,json\n",
    "from SPARQLWrapper import SPARQLWrapper, JSON\n",
    "\n",
    "endpoint_url = \"https://query.wikidata.org/sparql\"\n",
    " \n",
    "# https://w.wiki/6Dgz\n",
    "query = \"\"\"SELECT (REPLACE(STR(?item), \".*Q\", \"Q\") AS ?itemid) ?itemLabel ?OSM ?OSMrel WHERE {\n",
    "  ?item wdt:P6104 wd:Q115206846.\n",
    "  ?item wdt:P17 wd:Q34.\n",
    "  OPTIONAL {?item wdt:P10689 ?OSM}\n",
    "  OPTIONAL {?item wdt:P402 ?OSMrel}\n",
    "\n",
    "\n",
    "  SERVICE wikibase:label { bd:serviceParam wikibase:language \"sv,en\". }\n",
    "}\n",
    "ORDER BY (?itemLabel)\"\"\"\n",
    "\n",
    "\n",
    "def get_sparql_dataframe(endpoint_url, query):\n",
    "    \"\"\"\n",
    "    Helper function to convert SPARQL results into a Pandas data frame.\n",
    "    \"\"\"\n",
    "    user_agent = \"salgo60/%s.%s\" % (sys.version_info[0], sys.version_info[1])\n",
    " \n",
    "    sparql = SPARQLWrapper(endpoint_url, agent=user_agent)\n",
    "    sparql.setQuery(query)\n",
    "    sparql.setReturnFormat(JSON)\n",
    "    result = sparql.query()\n",
    "\n",
    "    processed_results = json.load(result.response)\n",
    "    cols = processed_results['head']['vars']\n",
    "\n",
    "    out = []\n",
    "    for row in processed_results['results']['bindings']:\n",
    "        item = []\n",
    "        for c in cols:\n",
    "            item.append(row.get(c, {}).get('value'))\n",
    "        out.append(item)\n",
    "\n",
    "    return pd.DataFrame(out, columns=cols)\n",
    "\n",
    "WDSwe = get_sparql_dataframe(endpoint_url, query)    \n",
    "WDSwe.shape"
   ]
  },
  {
   "cell_type": "code",
   "execution_count": 3,
   "id": "c25a6572",
   "metadata": {},
   "outputs": [
    {
     "data": {
      "text/html": [
       "<div>\n",
       "<style scoped>\n",
       "    .dataframe tbody tr th:only-of-type {\n",
       "        vertical-align: middle;\n",
       "    }\n",
       "\n",
       "    .dataframe tbody tr th {\n",
       "        vertical-align: top;\n",
       "    }\n",
       "\n",
       "    .dataframe thead th {\n",
       "        text-align: right;\n",
       "    }\n",
       "</style>\n",
       "<table border=\"1\" class=\"dataframe\">\n",
       "  <thead>\n",
       "    <tr style=\"text-align: right;\">\n",
       "      <th></th>\n",
       "      <th>itemid</th>\n",
       "      <th>itemLabel</th>\n",
       "      <th>OSM</th>\n",
       "      <th>OSMrel</th>\n",
       "    </tr>\n",
       "  </thead>\n",
       "  <tbody>\n",
       "    <tr>\n",
       "      <th>0</th>\n",
       "      <td>Q115961202</td>\n",
       "      <td>Lindhagens kulle</td>\n",
       "      <td>None</td>\n",
       "      <td>None</td>\n",
       "    </tr>\n",
       "    <tr>\n",
       "      <th>1</th>\n",
       "      <td>Q115302075</td>\n",
       "      <td>Abilds kyrkogård</td>\n",
       "      <td>way/1116387174</td>\n",
       "      <td>None</td>\n",
       "    </tr>\n",
       "    <tr>\n",
       "      <th>2</th>\n",
       "      <td>Q115371417</td>\n",
       "      <td>Acklinga kyrkogård</td>\n",
       "      <td>None</td>\n",
       "      <td>6363071</td>\n",
       "    </tr>\n",
       "    <tr>\n",
       "      <th>3</th>\n",
       "      <td>Q115364976</td>\n",
       "      <td>Adak kyrkogård</td>\n",
       "      <td>way/839880966</td>\n",
       "      <td>None</td>\n",
       "    </tr>\n",
       "    <tr>\n",
       "      <th>4</th>\n",
       "      <td>Q91411700</td>\n",
       "      <td>Adelsö kyrkogård</td>\n",
       "      <td>way/391824428</td>\n",
       "      <td>None</td>\n",
       "    </tr>\n",
       "  </tbody>\n",
       "</table>\n",
       "</div>"
      ],
      "text/plain": [
       "       itemid           itemLabel             OSM   OSMrel\n",
       "0  Q115961202    Lindhagens kulle            None     None\n",
       "1  Q115302075    Abilds kyrkogård  way/1116387174     None\n",
       "2  Q115371417  Acklinga kyrkogård            None  6363071\n",
       "3  Q115364976      Adak kyrkogård   way/839880966     None\n",
       "4   Q91411700    Adelsö kyrkogård   way/391824428     None"
      ]
     },
     "execution_count": 3,
     "metadata": {},
     "output_type": "execute_result"
    }
   ],
   "source": [
    "WDSwe.head()"
   ]
  },
  {
   "cell_type": "code",
   "execution_count": 4,
   "id": "d72941fa",
   "metadata": {},
   "outputs": [
    {
     "name": "stderr",
     "output_type": "stream",
     "text": [
      " 22%|██▏       | 772/3489 [01:11<03:50, 11.79it/s]"
     ]
    },
    {
     "name": "stdout",
     "output_type": "stream",
     "text": [
      "404 https://osm.wikidata.link/tagged/api/item/http://www.wikidata.org/entity/P5259\n"
     ]
    },
    {
     "name": "stderr",
     "output_type": "stream",
     "text": [
      "100%|██████████| 3489/3489 [05:22<00:00, 10.83it/s]"
     ]
    },
    {
     "name": "stdout",
     "output_type": "stream",
     "text": [
      "149\n"
     ]
    },
    {
     "name": "stderr",
     "output_type": "stream",
     "text": [
      "\n"
     ]
    }
   ],
   "source": [
    "import urllib3, json\n",
    "from tqdm import tqdm\n",
    "http = urllib3.PoolManager()\n",
    "\n",
    "listWD = []\n",
    "for WD, row in tqdm(WDSwe.iterrows(), total=WDSwe.shape[0]):\n",
    "    #print(row[\"itemid\"] ) \n",
    "    url = \"https://osm.wikidata.link/tagged/api/item/\" + row[\"itemid\"] \n",
    "    \n",
    "    new_item = dict()\n",
    "    new_item['wikidata'] = row[\"itemid\"] \n",
    "#    new_item['coord'] = row[\"coord\"] \n",
    "    try:\n",
    "        r = http.request('GET', url) \n",
    "        data = json.loads(r.data.decode('utf-8'))\n",
    "    except:\n",
    "        print (r.status, url)\n",
    "#    print (r.status)\n",
    "    try:\n",
    "        #print (\"OSM \", data[\"osm\"], \"Type: \", type(data[\"osm\"]))\n",
    "        #print (\"ID: \", data[\"osm\"][0][\"id\"] , \"\\tType: \", data[\"osm\"][0][\"type\"])\n",
    "        osmid = data[\"osm\"][0][\"id\"] \n",
    "        osmType = data[\"osm\"][0][\"type\"]\n",
    "        new_item['osmid'] = osmid \n",
    "        new_item['type'] = osmType\n",
    "        listWD.append(new_item)\n",
    "        #print(listWD)\n",
    "\n",
    "    except:\n",
    "        #print (\"error\")\n",
    "        pass\n",
    "print (len(listWD))"
   ]
  },
  {
   "cell_type": "code",
   "execution_count": 5,
   "id": "df229342",
   "metadata": {},
   "outputs": [
    {
     "data": {
      "text/plain": [
       "[{'wikidata': 'Q91411700', 'osmid': 391824428, 'type': 'way'},\n",
       " {'wikidata': 'Q360572', 'osmid': 42038493, 'type': 'way'},\n",
       " {'wikidata': 'Q19781340', 'osmid': 15802789, 'type': 'way'},\n",
       " {'wikidata': 'Q105451716', 'osmid': 319722710, 'type': 'way'},\n",
       " {'wikidata': 'Q50821184', 'osmid': 906518009, 'type': 'way'},\n",
       " {'wikidata': 'Q105521284', 'osmid': 6386650, 'type': 'relation'},\n",
       " {'wikidata': 'Q10428784', 'osmid': 32053420, 'type': 'way'},\n",
       " {'wikidata': 'Q19977506', 'osmid': 278976961, 'type': 'way'},\n",
       " {'wikidata': 'Q91453681', 'osmid': 609488819, 'type': 'way'},\n",
       " {'wikidata': 'Q91654592', 'osmid': 198936254, 'type': 'way'},\n",
       " {'wikidata': 'Q10432963', 'osmid': 240376988, 'type': 'way'},\n",
       " {'wikidata': 'Q91413168', 'osmid': 188549828, 'type': 'way'},\n",
       " {'wikidata': 'Q44436044', 'osmid': 312365242, 'type': 'way'},\n",
       " {'wikidata': 'Q19672911', 'osmid': 43395692, 'type': 'way'},\n",
       " {'wikidata': 'Q91422098', 'osmid': 236563790, 'type': 'way'},\n",
       " {'wikidata': 'Q19721229', 'osmid': 515299597, 'type': 'way'},\n",
       " {'wikidata': 'Q15618875', 'osmid': 13339023, 'type': 'relation'},\n",
       " {'wikidata': 'Q91457349', 'osmid': 175806919, 'type': 'way'},\n",
       " {'wikidata': 'Q29168225', 'osmid': 33081219, 'type': 'way'},\n",
       " {'wikidata': 'Q19652332', 'osmid': 120965702, 'type': 'way'},\n",
       " {'wikidata': 'Q10474951', 'osmid': 5107252, 'type': 'way'},\n",
       " {'wikidata': 'Q10474982', 'osmid': 57852556, 'type': 'way'},\n",
       " {'wikidata': 'Q10475878', 'osmid': 97327210, 'type': 'way'},\n",
       " {'wikidata': 'Q15621237', 'osmid': 45420085, 'type': 'way'},\n",
       " {'wikidata': 'Q105687119', 'osmid': 611315398, 'type': 'way'},\n",
       " {'wikidata': 'Q98517342', 'osmid': 204057594, 'type': 'way'},\n",
       " {'wikidata': 'Q91598358', 'osmid': 199773582, 'type': 'way'},\n",
       " {'wikidata': 'Q105438536', 'osmid': 354214749, 'type': 'way'},\n",
       " {'wikidata': 'Q10498690', 'osmid': 1891500, 'type': 'relation'},\n",
       " {'wikidata': 'Q91430125', 'osmid': 23323709, 'type': 'way'},\n",
       " {'wikidata': 'Q10499026', 'osmid': 10422471, 'type': 'relation'},\n",
       " {'wikidata': 'Q61754877', 'osmid': 82745831, 'type': 'way'},\n",
       " {'wikidata': 'Q18290008', 'osmid': 10753983, 'type': 'relation'},\n",
       " {'wikidata': 'Q91655591', 'osmid': 7147244, 'type': 'relation'},\n",
       " {'wikidata': 'Q105533889', 'osmid': 243138233, 'type': 'way'},\n",
       " {'wikidata': 'Q10502323', 'osmid': 33101105, 'type': 'way'},\n",
       " {'wikidata': 'Q56256171', 'osmid': 416451516, 'type': 'way'},\n",
       " {'wikidata': 'Q19689717', 'osmid': 52336532, 'type': 'way'},\n",
       " {'wikidata': 'Q26257009', 'osmid': 22634163, 'type': 'way'},\n",
       " {'wikidata': 'Q105710850', 'osmid': 303947602, 'type': 'way'},\n",
       " {'wikidata': 'Q10512691', 'osmid': 26772139, 'type': 'way'},\n",
       " {'wikidata': 'Q19977795', 'osmid': 28132889, 'type': 'way'},\n",
       " {'wikidata': 'Q10520550', 'osmid': 1397884, 'type': 'relation'},\n",
       " {'wikidata': 'Q91461787', 'osmid': 431444259, 'type': 'way'},\n",
       " {'wikidata': 'Q105525693', 'osmid': 7681289, 'type': 'relation'},\n",
       " {'wikidata': 'Q105521968', 'osmid': 243042850, 'type': 'way'},\n",
       " {'wikidata': 'Q63975431', 'osmid': 11052847, 'type': 'relation'},\n",
       " {'wikidata': 'Q18290753', 'osmid': 534275733, 'type': 'way'},\n",
       " {'wikidata': 'Q105526212', 'osmid': 7841976, 'type': 'relation'},\n",
       " {'wikidata': 'Q1716705', 'osmid': 29877943, 'type': 'way'},\n",
       " {'wikidata': 'Q10544305', 'osmid': 7268579, 'type': 'way'},\n",
       " {'wikidata': 'Q28007201', 'osmid': 80173117, 'type': 'way'},\n",
       " {'wikidata': 'Q63184451', 'osmid': 159501459, 'type': 'way'},\n",
       " {'wikidata': 'Q10547074', 'osmid': 113082585, 'type': 'way'},\n",
       " {'wikidata': 'Q10551048', 'osmid': 167290439, 'type': 'way'},\n",
       " {'wikidata': 'Q10551065', 'osmid': 10604531, 'type': 'relation'},\n",
       " {'wikidata': 'Q105525733', 'osmid': 7684416, 'type': 'relation'},\n",
       " {'wikidata': 'Q29256117', 'osmid': 26194128, 'type': 'way'},\n",
       " {'wikidata': 'Q105525615', 'osmid': 243067660, 'type': 'way'},\n",
       " {'wikidata': 'Q10561360', 'osmid': 4880647, 'type': 'way'},\n",
       " {'wikidata': 'Q10561710', 'osmid': 300635586, 'type': 'way'},\n",
       " {'wikidata': 'Q105522319', 'osmid': 401799751, 'type': 'way'},\n",
       " {'wikidata': 'Q47143788', 'osmid': 686445660, 'type': 'way'},\n",
       " {'wikidata': 'Q43233011', 'osmid': 23523517, 'type': 'way'},\n",
       " {'wikidata': 'Q10570028', 'osmid': 164232884, 'type': 'way'},\n",
       " {'wikidata': 'Q91465403', 'osmid': 11014455, 'type': 'relation'},\n",
       " {'wikidata': 'Q100152662', 'osmid': 342245895, 'type': 'way'},\n",
       " {'wikidata': 'Q10577195', 'osmid': 7268195, 'type': 'way'},\n",
       " {'wikidata': 'Q10577291', 'osmid': 13384458, 'type': 'relation'},\n",
       " {'wikidata': 'Q105529959', 'osmid': 3873344, 'type': 'relation'},\n",
       " {'wikidata': 'Q28007260', 'osmid': 244437539, 'type': 'way'},\n",
       " {'wikidata': 'Q19682168', 'osmid': 25334489, 'type': 'way'},\n",
       " {'wikidata': 'Q252312', 'osmid': 23513686, 'type': 'way'},\n",
       " {'wikidata': 'Q10602635', 'osmid': 148634974, 'type': 'way'},\n",
       " {'wikidata': 'Q10602636', 'osmid': 91841837, 'type': 'way'},\n",
       " {'wikidata': 'Q37798642', 'osmid': 88938416, 'type': 'way'},\n",
       " {'wikidata': 'Q50847046', 'osmid': 134678396, 'type': 'way'},\n",
       " {'wikidata': 'Q17581419', 'osmid': 6866913, 'type': 'relation'},\n",
       " {'wikidata': 'Q20823574', 'osmid': 52357681, 'type': 'way'},\n",
       " {'wikidata': 'Q10604294', 'osmid': 11365417, 'type': 'relation'},\n",
       " {'wikidata': 'Q108428497', 'osmid': 118764303, 'type': 'way'},\n",
       " {'wikidata': 'Q105530339', 'osmid': 308815049, 'type': 'way'},\n",
       " {'wikidata': 'Q105525847', 'osmid': 243138236, 'type': 'way'},\n",
       " {'wikidata': 'Q657118', 'osmid': 23841420, 'type': 'way'},\n",
       " {'wikidata': 'Q47092264', 'osmid': 11619128, 'type': 'relation'},\n",
       " {'wikidata': 'Q10658631', 'osmid': 10235321, 'type': 'relation'},\n",
       " {'wikidata': 'Q61746939', 'osmid': 857905608, 'type': 'way'},\n",
       " {'wikidata': 'Q10659370', 'osmid': 40850386, 'type': 'way'},\n",
       " {'wikidata': 'Q10659384', 'osmid': 159709334, 'type': 'way'},\n",
       " {'wikidata': 'Q105522519', 'osmid': 6538270, 'type': 'relation'},\n",
       " {'wikidata': 'Q10661221', 'osmid': 37719874, 'type': 'way'},\n",
       " {'wikidata': 'Q62071058', 'osmid': 30276075, 'type': 'way'},\n",
       " {'wikidata': 'Q26710447', 'osmid': 38160256, 'type': 'way'},\n",
       " {'wikidata': 'Q62071132', 'osmid': 329572730, 'type': 'way'},\n",
       " {'wikidata': 'Q10667898', 'osmid': 24011070, 'type': 'way'},\n",
       " {'wikidata': 'Q105829450', 'osmid': 32678695, 'type': 'way'},\n",
       " {'wikidata': 'Q213988', 'osmid': 116872399, 'type': 'way'},\n",
       " {'wikidata': 'Q56285506', 'osmid': 10842526, 'type': 'relation'},\n",
       " {'wikidata': 'Q47006846', 'osmid': 3016934, 'type': 'relation'},\n",
       " {'wikidata': 'Q19638445', 'osmid': 240363432, 'type': 'way'},\n",
       " {'wikidata': 'Q105487873', 'osmid': 607136388, 'type': 'way'},\n",
       " {'wikidata': 'Q91445049', 'osmid': 96584748, 'type': 'way'},\n",
       " {'wikidata': 'Q105529812', 'osmid': 6582613, 'type': 'relation'},\n",
       " {'wikidata': 'Q105710703', 'osmid': 308813043, 'type': 'way'},\n",
       " {'wikidata': 'Q84347471', 'osmid': 77339985, 'type': 'way'},\n",
       " {'wikidata': 'Q105525657', 'osmid': 243067664, 'type': 'way'},\n",
       " {'wikidata': 'Q105904410', 'osmid': 199802311, 'type': 'way'},\n",
       " {'wikidata': 'Q29032934', 'osmid': 11774877, 'type': 'way'},\n",
       " {'wikidata': 'Q75402955', 'osmid': 226309098, 'type': 'way'},\n",
       " {'wikidata': 'Q10677505', 'osmid': 9093054, 'type': 'way'},\n",
       " {'wikidata': 'Q105488317', 'osmid': 449055629, 'type': 'way'},\n",
       " {'wikidata': 'Q38034671', 'osmid': 84579270, 'type': 'way'},\n",
       " {'wikidata': 'Q10681544', 'osmid': 24309791, 'type': 'way'},\n",
       " {'wikidata': 'Q105522080', 'osmid': 761097670, 'type': 'way'},\n",
       " {'wikidata': 'Q20782305', 'osmid': 24324151, 'type': 'way'},\n",
       " {'wikidata': 'Q105806234', 'osmid': 372694572, 'type': 'way'},\n",
       " {'wikidata': 'Q28056485', 'osmid': 43185289, 'type': 'way'},\n",
       " {'wikidata': 'Q105710740', 'osmid': 308692985, 'type': 'way'},\n",
       " {'wikidata': 'Q105530298', 'osmid': 9159887, 'type': 'relation'},\n",
       " {'wikidata': 'Q77383131', 'osmid': 10175396, 'type': 'relation'},\n",
       " {'wikidata': 'Q26710280', 'osmid': 6076925, 'type': 'way'},\n",
       " {'wikidata': 'Q30334550', 'osmid': 30854391, 'type': 'way'},\n",
       " {'wikidata': 'Q10699797', 'osmid': 37521012, 'type': 'way'},\n",
       " {'wikidata': 'Q93072049', 'osmid': 10402471, 'type': 'relation'},\n",
       " {'wikidata': 'Q10707920', 'osmid': 132707353, 'type': 'way'},\n",
       " {'wikidata': 'Q10708118', 'osmid': 15068104, 'type': 'way'},\n",
       " {'wikidata': 'Q105522524', 'osmid': 4572858, 'type': 'relation'},\n",
       " {'wikidata': 'Q19978994', 'osmid': 27810572, 'type': 'way'},\n",
       " {'wikidata': 'Q4353116', 'osmid': 184650267, 'type': 'way'},\n",
       " {'wikidata': 'Q105553096', 'osmid': 219431908, 'type': 'way'},\n",
       " {'wikidata': 'Q91441503', 'osmid': 23819817, 'type': 'way'},\n",
       " {'wikidata': 'Q105529598', 'osmid': 326637264, 'type': 'way'},\n",
       " {'wikidata': 'Q63820382', 'osmid': 296118614, 'type': 'way'},\n",
       " {'wikidata': 'Q47496757', 'osmid': 76508417, 'type': 'way'},\n",
       " {'wikidata': 'Q98929436', 'osmid': 504892786, 'type': 'way'},\n",
       " {'wikidata': 'Q19721237', 'osmid': 215029163, 'type': 'way'},\n",
       " {'wikidata': 'Q105529774', 'osmid': 907785254, 'type': 'way'},\n",
       " {'wikidata': 'Q19979120', 'osmid': 159404132, 'type': 'way'},\n",
       " {'wikidata': 'Q48034291', 'osmid': 34754019, 'type': 'way'},\n",
       " {'wikidata': 'Q21289243', 'osmid': 9175210, 'type': 'way'},\n",
       " {'wikidata': 'Q56808218', 'osmid': 28757828, 'type': 'way'},\n",
       " {'wikidata': 'Q10718436', 'osmid': 10476129, 'type': 'relation'},\n",
       " {'wikidata': 'Q105521166', 'osmid': 324564158, 'type': 'way'},\n",
       " {'wikidata': 'Q44431080', 'osmid': 430223958, 'type': 'way'},\n",
       " {'wikidata': 'Q10727563', 'osmid': 132087658, 'type': 'way'},\n",
       " {'wikidata': 'Q10727567', 'osmid': 15801394, 'type': 'way'},\n",
       " {'wikidata': 'Q63445604', 'osmid': 64361445, 'type': 'way'},\n",
       " {'wikidata': 'Q4354314', 'osmid': 15801342, 'type': 'way'},\n",
       " {'wikidata': 'Q18335386', 'osmid': 7979069, 'type': 'way'}]"
      ]
     },
     "execution_count": 5,
     "metadata": {},
     "output_type": "execute_result"
    }
   ],
   "source": [
    "listWD"
   ]
  },
  {
   "cell_type": "code",
   "execution_count": 6,
   "id": "220db3b2",
   "metadata": {},
   "outputs": [
    {
     "data": {
      "text/plain": [
       "(149, 3)"
      ]
     },
     "execution_count": 6,
     "metadata": {},
     "output_type": "execute_result"
    }
   ],
   "source": [
    "OSMtot = pd.DataFrame(listWD,\n",
    "                  columns=['wikidata','osmid','type'])\n",
    "OSMtot.shape"
   ]
  },
  {
   "cell_type": "code",
   "execution_count": 7,
   "id": "ccfe92f9",
   "metadata": {},
   "outputs": [
    {
     "data": {
      "text/html": [
       "<div>\n",
       "<style scoped>\n",
       "    .dataframe tbody tr th:only-of-type {\n",
       "        vertical-align: middle;\n",
       "    }\n",
       "\n",
       "    .dataframe tbody tr th {\n",
       "        vertical-align: top;\n",
       "    }\n",
       "\n",
       "    .dataframe thead th {\n",
       "        text-align: right;\n",
       "    }\n",
       "</style>\n",
       "<table border=\"1\" class=\"dataframe\">\n",
       "  <thead>\n",
       "    <tr style=\"text-align: right;\">\n",
       "      <th></th>\n",
       "      <th>wikidata</th>\n",
       "      <th>osmid</th>\n",
       "      <th>type</th>\n",
       "    </tr>\n",
       "  </thead>\n",
       "  <tbody>\n",
       "    <tr>\n",
       "      <th>0</th>\n",
       "      <td>Q91411700</td>\n",
       "      <td>391824428</td>\n",
       "      <td>way</td>\n",
       "    </tr>\n",
       "    <tr>\n",
       "      <th>1</th>\n",
       "      <td>Q360572</td>\n",
       "      <td>42038493</td>\n",
       "      <td>way</td>\n",
       "    </tr>\n",
       "    <tr>\n",
       "      <th>2</th>\n",
       "      <td>Q19781340</td>\n",
       "      <td>15802789</td>\n",
       "      <td>way</td>\n",
       "    </tr>\n",
       "    <tr>\n",
       "      <th>3</th>\n",
       "      <td>Q105451716</td>\n",
       "      <td>319722710</td>\n",
       "      <td>way</td>\n",
       "    </tr>\n",
       "    <tr>\n",
       "      <th>4</th>\n",
       "      <td>Q50821184</td>\n",
       "      <td>906518009</td>\n",
       "      <td>way</td>\n",
       "    </tr>\n",
       "    <tr>\n",
       "      <th>5</th>\n",
       "      <td>Q105521284</td>\n",
       "      <td>6386650</td>\n",
       "      <td>relation</td>\n",
       "    </tr>\n",
       "    <tr>\n",
       "      <th>6</th>\n",
       "      <td>Q10428784</td>\n",
       "      <td>32053420</td>\n",
       "      <td>way</td>\n",
       "    </tr>\n",
       "    <tr>\n",
       "      <th>7</th>\n",
       "      <td>Q19977506</td>\n",
       "      <td>278976961</td>\n",
       "      <td>way</td>\n",
       "    </tr>\n",
       "    <tr>\n",
       "      <th>8</th>\n",
       "      <td>Q91453681</td>\n",
       "      <td>609488819</td>\n",
       "      <td>way</td>\n",
       "    </tr>\n",
       "    <tr>\n",
       "      <th>9</th>\n",
       "      <td>Q91654592</td>\n",
       "      <td>198936254</td>\n",
       "      <td>way</td>\n",
       "    </tr>\n",
       "  </tbody>\n",
       "</table>\n",
       "</div>"
      ],
      "text/plain": [
       "     wikidata      osmid      type\n",
       "0   Q91411700  391824428       way\n",
       "1     Q360572   42038493       way\n",
       "2   Q19781340   15802789       way\n",
       "3  Q105451716  319722710       way\n",
       "4   Q50821184  906518009       way\n",
       "5  Q105521284    6386650  relation\n",
       "6   Q10428784   32053420       way\n",
       "7   Q19977506  278976961       way\n",
       "8   Q91453681  609488819       way\n",
       "9   Q91654592  198936254       way"
      ]
     },
     "execution_count": 7,
     "metadata": {},
     "output_type": "execute_result"
    }
   ],
   "source": [
    "pd.set_option('max_colwidth', 400)\n",
    "OSMtot.head(10)"
   ]
  },
  {
   "cell_type": "code",
   "execution_count": 8,
   "id": "34bcf626",
   "metadata": {},
   "outputs": [],
   "source": [
    "OSMtot.to_csv(\"WDOSMCemetary.csv\")"
   ]
  },
  {
   "cell_type": "markdown",
   "id": "a8ff1306",
   "metadata": {},
   "source": [
    "* [WDOSMCemetary.csv](https://github.com/salgo60/Gravstensinventeringen-Wikidata/blob/main/Notebook/WDOSMCemetary.csv)"
   ]
  },
  {
   "cell_type": "code",
   "execution_count": 9,
   "id": "34880176",
   "metadata": {},
   "outputs": [
    {
     "name": "stdout",
     "output_type": "stream",
     "text": [
      "Ended:  2023-01-13 14:29:04.289034\n",
      "Time elapsed (hh:mm:ss.ms) 0:05:33.575296\n"
     ]
    }
   ],
   "source": [
    "end = datetime.now()\n",
    "print(\"Ended: \", end) \n",
    "print('Time elapsed (hh:mm:ss.ms) {}'.format(datetime.now() - start_time))"
   ]
  },
  {
   "cell_type": "code",
   "execution_count": null,
   "id": "e2900c4f",
   "metadata": {},
   "outputs": [],
   "source": []
  }
 ],
 "metadata": {
  "kernelspec": {
   "display_name": "Python 3",
   "language": "python",
   "name": "python3"
  },
  "language_info": {
   "codemirror_mode": {
    "name": "ipython",
    "version": 3
   },
   "file_extension": ".py",
   "mimetype": "text/x-python",
   "name": "python",
   "nbconvert_exporter": "python",
   "pygments_lexer": "ipython3",
   "version": "3.9.13"
  }
 },
 "nbformat": 4,
 "nbformat_minor": 5
}
