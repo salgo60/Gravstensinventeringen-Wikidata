{
 "cells": [
  {
   "cell_type": "markdown",
   "id": "102cf5a9",
   "metadata": {},
   "source": [
    "Get all cemeteries in Wikidata and check OSM\n",
    "* [This Notebook](https://github.com/salgo60/Gravstensinventeringen-Wikidata/blob/main/Notebook/OSM%20Wikidata%20cemeteryGermany.ipynb)\n",
    "* [Video](https://youtu.be/EDkPoomRmJg)\n"
   ]
  },
  {
   "cell_type": "code",
   "execution_count": 1,
   "id": "35dc7b96",
   "metadata": {},
   "outputs": [
    {
     "name": "stdout",
     "output_type": "stream",
     "text": [
      "Last run:  2023-02-15 12:39:55.839839\n"
     ]
    }
   ],
   "source": [
    "from datetime import datetime\n",
    "start_time  = datetime.now()\n",
    "print(\"Last run: \", start_time)"
   ]
  },
  {
   "cell_type": "code",
   "execution_count": 2,
   "id": "fa2b009e",
   "metadata": {},
   "outputs": [
    {
     "data": {
      "text/plain": [
       "(11953, 3)"
      ]
     },
     "execution_count": 2,
     "metadata": {},
     "output_type": "execute_result"
    }
   ],
   "source": [
    "import pandas as pd\n",
    "#\n",
    "# pip install sparqlwrapper\n",
    "# https://rdflib.github.io/sparqlwrapper/\n",
    "\n",
    "import sys,json\n",
    "from SPARQLWrapper import SPARQLWrapper, JSON\n",
    "\n",
    "endpoint_url = \"https://query.wikidata.org/sparql\"\n",
    " \n",
    "# https://w.wiki/6LdN\n",
    "queryAllCem = \"\"\"#title FindAgrave xemetery ID no OSM\n",
    "SELECT ?item ?itemLabel (REPLACE(STR(?item), \".*Q\", \"Q\") AS ?itemid)  WHERE {\n",
    "  #?item wdt:P6104 wd:Q115206846.\n",
    "  ?item wdt:P2025 ?FAQid.\n",
    "  minus {?item wdt:P10689 ?OSM}\n",
    "  minus {?item wdt:P402 ?OSMrel}\n",
    "\n",
    "  SERVICE wikibase:label { bd:serviceParam wikibase:language \"en,sv\". }\n",
    "}\n",
    "\"\"\"\n",
    "\n",
    "\n",
    "def get_sparql_dataframe(endpoint_url, query):\n",
    "    \"\"\"\n",
    "    Helper function to convert SPARQL results into a Pandas data frame.\n",
    "    \"\"\"\n",
    "    user_agent = \"salgo60/%s.%s\" % (sys.version_info[0], sys.version_info[1])\n",
    " \n",
    "    sparql = SPARQLWrapper(endpoint_url, agent=user_agent)\n",
    "    sparql.setQuery(query)\n",
    "    sparql.setReturnFormat(JSON)\n",
    "    result = sparql.query()\n",
    "\n",
    "    processed_results = json.load(result.response)\n",
    "    cols = processed_results['head']['vars']\n",
    "\n",
    "    out = []\n",
    "    for row in processed_results['results']['bindings']:\n",
    "        item = []\n",
    "        for c in cols:\n",
    "            item.append(row.get(c, {}).get('value'))\n",
    "        out.append(item)\n",
    "\n",
    "    return pd.DataFrame(out, columns=cols)\n",
    "\n",
    "WDCem = get_sparql_dataframe(endpoint_url, queryAllCem)    \n",
    "WDCem.shape"
   ]
  },
  {
   "cell_type": "code",
   "execution_count": 3,
   "id": "c25a6572",
   "metadata": {},
   "outputs": [
    {
     "data": {
      "text/html": [
       "<div>\n",
       "<style scoped>\n",
       "    .dataframe tbody tr th:only-of-type {\n",
       "        vertical-align: middle;\n",
       "    }\n",
       "\n",
       "    .dataframe tbody tr th {\n",
       "        vertical-align: top;\n",
       "    }\n",
       "\n",
       "    .dataframe thead th {\n",
       "        text-align: right;\n",
       "    }\n",
       "</style>\n",
       "<table border=\"1\" class=\"dataframe\">\n",
       "  <thead>\n",
       "    <tr style=\"text-align: right;\">\n",
       "      <th></th>\n",
       "      <th>item</th>\n",
       "      <th>itemLabel</th>\n",
       "      <th>itemid</th>\n",
       "    </tr>\n",
       "  </thead>\n",
       "  <tbody>\n",
       "    <tr>\n",
       "      <th>0</th>\n",
       "      <td>http://www.wikidata.org/entity/Q80146</td>\n",
       "      <td>Saburtalo Pantheon</td>\n",
       "      <td>Q80146</td>\n",
       "    </tr>\n",
       "    <tr>\n",
       "      <th>1</th>\n",
       "      <td>http://www.wikidata.org/entity/Q81785</td>\n",
       "      <td>Zachary Taylor National Cemetery</td>\n",
       "      <td>Q81785</td>\n",
       "    </tr>\n",
       "    <tr>\n",
       "      <th>2</th>\n",
       "      <td>http://www.wikidata.org/entity/Q82162</td>\n",
       "      <td>Wolvercote Cemetery</td>\n",
       "      <td>Q82162</td>\n",
       "    </tr>\n",
       "    <tr>\n",
       "      <th>3</th>\n",
       "      <td>http://www.wikidata.org/entity/Q93544</td>\n",
       "      <td>Monumental Cemetery of Staglieno</td>\n",
       "      <td>Q93544</td>\n",
       "    </tr>\n",
       "    <tr>\n",
       "      <th>4</th>\n",
       "      <td>http://www.wikidata.org/entity/Q99309</td>\n",
       "      <td>Pantheon</td>\n",
       "      <td>Q99309</td>\n",
       "    </tr>\n",
       "  </tbody>\n",
       "</table>\n",
       "</div>"
      ],
      "text/plain": [
       "                                    item                         itemLabel  \\\n",
       "0  http://www.wikidata.org/entity/Q80146                Saburtalo Pantheon   \n",
       "1  http://www.wikidata.org/entity/Q81785  Zachary Taylor National Cemetery   \n",
       "2  http://www.wikidata.org/entity/Q82162               Wolvercote Cemetery   \n",
       "3  http://www.wikidata.org/entity/Q93544  Monumental Cemetery of Staglieno   \n",
       "4  http://www.wikidata.org/entity/Q99309                          Pantheon   \n",
       "\n",
       "   itemid  \n",
       "0  Q80146  \n",
       "1  Q81785  \n",
       "2  Q82162  \n",
       "3  Q93544  \n",
       "4  Q99309  "
      ]
     },
     "execution_count": 3,
     "metadata": {},
     "output_type": "execute_result"
    }
   ],
   "source": [
    "WDCem.head()"
   ]
  },
  {
   "cell_type": "code",
   "execution_count": null,
   "id": "d72941fa",
   "metadata": {},
   "outputs": [
    {
     "name": "stderr",
     "output_type": "stream",
     "text": [
      " 18%|█▊        | 2125/11953 [08:02<40:23,  4.06it/s]  "
     ]
    }
   ],
   "source": [
    "import urllib3, json\n",
    "from tqdm import tqdm\n",
    "http = urllib3.PoolManager()\n",
    "\n",
    "listWD = []\n",
    "for WD, row in tqdm(WDCem.iterrows(), total=WDCem.shape[0]):\n",
    "    #print(row[\"itemid\"] ) \n",
    "    url = \"https://osm.wikidata.link/tagged/api/item/\" + row[\"itemid\"] \n",
    "    \n",
    "    new_item = dict()\n",
    "    new_item['wikidata'] = row[\"itemid\"] \n",
    "#    new_item['coord'] = row[\"coord\"] \n",
    "    try:\n",
    "        r = http.request('GET', url) \n",
    "        data = json.loads(r.data.decode('utf-8'))\n",
    "    except:\n",
    "        print (r.status, url)\n",
    "#    print (r.status)\n",
    "    try:\n",
    "        #print (\"OSM \", data[\"osm\"], \"Type: \", type(data[\"osm\"]))\n",
    "        #print (\"ID: \", data[\"osm\"][0][\"id\"] , \"\\tType: \", data[\"osm\"][0][\"type\"])\n",
    "        osmid = data[\"osm\"][0][\"id\"] \n",
    "        osmType = data[\"osm\"][0][\"type\"]\n",
    "        new_item['osmid'] = osmid \n",
    "        new_item['type'] = osmType\n",
    "        listWD.append(new_item)\n",
    "        #print(listWD)\n",
    "\n",
    "    except:\n",
    "        #print (\"error\")\n",
    "        pass\n",
    "print (len(listWD))"
   ]
  },
  {
   "cell_type": "code",
   "execution_count": null,
   "id": "df229342",
   "metadata": {},
   "outputs": [],
   "source": [
    "listWD"
   ]
  },
  {
   "cell_type": "code",
   "execution_count": null,
   "id": "220db3b2",
   "metadata": {},
   "outputs": [],
   "source": [
    "OSMtot = pd.DataFrame(listWD,\n",
    "                  columns=['wikidata','osmid','type'])\n",
    "OSMtot.shape"
   ]
  },
  {
   "cell_type": "code",
   "execution_count": null,
   "id": "ccfe92f9",
   "metadata": {},
   "outputs": [],
   "source": [
    "pd.set_option('max_colwidth', 400)\n",
    "OSMtot.head(10)"
   ]
  },
  {
   "cell_type": "code",
   "execution_count": null,
   "id": "34bcf626",
   "metadata": {},
   "outputs": [],
   "source": [
    "OSMtot.to_csv(\"WD_OSM_Germany_Cemetary.csv\")"
   ]
  },
  {
   "cell_type": "markdown",
   "id": "a8ff1306",
   "metadata": {},
   "source": [
    "* [WD_OSM_Germany_Cemetary.csv](https://github.com/salgo60/Gravstensinventeringen-Wikidata/blob/main/Notebook/WD_OSM_Germany_Cemetary.csv)"
   ]
  },
  {
   "cell_type": "code",
   "execution_count": null,
   "id": "34880176",
   "metadata": {},
   "outputs": [],
   "source": [
    "end = datetime.now()\n",
    "print(\"Ended: \", end) \n",
    "print('Time elapsed (hh:mm:ss.ms) {}'.format(datetime.now() - start_time))"
   ]
  },
  {
   "cell_type": "code",
   "execution_count": null,
   "id": "e2900c4f",
   "metadata": {},
   "outputs": [],
   "source": []
  }
 ],
 "metadata": {
  "kernelspec": {
   "display_name": "Python 3",
   "language": "python",
   "name": "python3"
  },
  "language_info": {
   "codemirror_mode": {
    "name": "ipython",
    "version": 3
   },
   "file_extension": ".py",
   "mimetype": "text/x-python",
   "name": "python",
   "nbconvert_exporter": "python",
   "pygments_lexer": "ipython3",
   "version": "3.9.13"
  }
 },
 "nbformat": 4,
 "nbformat_minor": 5
}
