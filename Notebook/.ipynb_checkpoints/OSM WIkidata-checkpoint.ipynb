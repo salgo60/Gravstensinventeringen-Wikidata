{
 "cells": [
  {
   "cell_type": "markdown",
   "id": "102cf5a9",
   "metadata": {},
   "source": [
    "Get all Swedish churches and check OSM\n",
    "* This Notebook\n"
   ]
  },
  {
   "cell_type": "code",
   "execution_count": 1,
   "id": "35dc7b96",
   "metadata": {},
   "outputs": [],
   "source": [
    "from datetime import datetime\n",
    "start_time  = datetime.now()\n",
    "print(\"Last run: \", start_time)"
   ]
  },
  {
   "cell_type": "code",
   "execution_count": 2,
   "id": "fa2b009e",
   "metadata": {},
   "outputs": [
    {
     "data": {
      "text/plain": [
       "(4331, 4)"
      ]
     },
     "execution_count": 2,
     "metadata": {},
     "output_type": "execute_result"
    }
   ],
   "source": [
    "import pandas as pd\n",
    "#\n",
    "# pip install sparqlwrapper\n",
    "# https://rdflib.github.io/sparqlwrapper/\n",
    "\n",
    "import sys,json\n",
    "from SPARQLWrapper import SPARQLWrapper, JSON\n",
    "\n",
    "endpoint_url = \"https://query.wikidata.org/sparql\"\n",
    " \n",
    "# https://w.wiki/3S35  \n",
    "queryChurch = \"\"\"SELECT (REPLACE(STR(?church), \".*Q\", \"Q\") AS ?churchid) ?churchLabel ?OSM ?OSMrel WHERE {\n",
    "  ?church wdt:P31/wdt:P279* wd:Q16970.\n",
    "  ?church wdt:P17 wd:Q34.\n",
    "  OPTIONAL {?church wdt:P10689 ?OSM}\n",
    "  OPTIONAL {?church wdt:P402 ?OSMrel}\n",
    "\n",
    "\n",
    "  SERVICE wikibase:label { bd:serviceParam wikibase:language \"sv,en\". }\n",
    "}\n",
    "ORDER BY (?churchLabel)\"\"\"\n",
    "\n",
    "\n",
    "def get_sparql_dataframe(endpoint_url, query):\n",
    "    \"\"\"\n",
    "    Helper function to convert SPARQL results into a Pandas data frame.\n",
    "    \"\"\"\n",
    "    user_agent = \"salgo60/%s.%s\" % (sys.version_info[0], sys.version_info[1])\n",
    " \n",
    "    sparql = SPARQLWrapper(endpoint_url, agent=user_agent)\n",
    "    sparql.setQuery(query)\n",
    "    sparql.setReturnFormat(JSON)\n",
    "    result = sparql.query()\n",
    "\n",
    "    processed_results = json.load(result.response)\n",
    "    cols = processed_results['head']['vars']\n",
    "\n",
    "    out = []\n",
    "    for row in processed_results['results']['bindings']:\n",
    "        item = []\n",
    "        for c in cols:\n",
    "            item.append(row.get(c, {}).get('value'))\n",
    "        out.append(item)\n",
    "\n",
    "    return pd.DataFrame(out, columns=cols)\n",
    "\n",
    "WDSweChurch = get_sparql_dataframe(endpoint_url, queryChurch)    \n",
    "WDSweChurch.shape"
   ]
  },
  {
   "cell_type": "code",
   "execution_count": 3,
   "id": "c25a6572",
   "metadata": {},
   "outputs": [
    {
     "data": {
      "text/html": [
       "<div>\n",
       "<style scoped>\n",
       "    .dataframe tbody tr th:only-of-type {\n",
       "        vertical-align: middle;\n",
       "    }\n",
       "\n",
       "    .dataframe tbody tr th {\n",
       "        vertical-align: top;\n",
       "    }\n",
       "\n",
       "    .dataframe thead th {\n",
       "        text-align: right;\n",
       "    }\n",
       "</style>\n",
       "<table border=\"1\" class=\"dataframe\">\n",
       "  <thead>\n",
       "    <tr style=\"text-align: right;\">\n",
       "      <th></th>\n",
       "      <th>churchid</th>\n",
       "      <th>churchLabel</th>\n",
       "      <th>OSM</th>\n",
       "      <th>OSMrel</th>\n",
       "    </tr>\n",
       "  </thead>\n",
       "  <tbody>\n",
       "    <tr>\n",
       "      <th>0</th>\n",
       "      <td>Q12001497</td>\n",
       "      <td>Q12001497</td>\n",
       "      <td>None</td>\n",
       "      <td>None</td>\n",
       "    </tr>\n",
       "    <tr>\n",
       "      <th>1</th>\n",
       "      <td>Q1573660</td>\n",
       "      <td>Church ruins of Agnestad</td>\n",
       "      <td>None</td>\n",
       "      <td>None</td>\n",
       "    </tr>\n",
       "    <tr>\n",
       "      <th>2</th>\n",
       "      <td>Q106831114</td>\n",
       "      <td>Pingstkyrkan Ulricehamn</td>\n",
       "      <td>None</td>\n",
       "      <td>None</td>\n",
       "    </tr>\n",
       "    <tr>\n",
       "      <th>3</th>\n",
       "      <td>Q11735120</td>\n",
       "      <td>Saint Mary's Chapel (Linköping Cathedral)</td>\n",
       "      <td>None</td>\n",
       "      <td>None</td>\n",
       "    </tr>\n",
       "    <tr>\n",
       "      <th>4</th>\n",
       "      <td>Q29893517</td>\n",
       "      <td>\"G:a kyrka\",Kyrkmon</td>\n",
       "      <td>None</td>\n",
       "      <td>None</td>\n",
       "    </tr>\n",
       "  </tbody>\n",
       "</table>\n",
       "</div>"
      ],
      "text/plain": [
       "     churchid                                churchLabel   OSM OSMrel\n",
       "0   Q12001497                                  Q12001497  None   None\n",
       "1    Q1573660                   Church ruins of Agnestad  None   None\n",
       "2  Q106831114                    Pingstkyrkan Ulricehamn  None   None\n",
       "3   Q11735120  Saint Mary's Chapel (Linköping Cathedral)  None   None\n",
       "4   Q29893517                        \"G:a kyrka\",Kyrkmon  None   None"
      ]
     },
     "execution_count": 3,
     "metadata": {},
     "output_type": "execute_result"
    }
   ],
   "source": [
    "WDSweChurch.head()"
   ]
  },
  {
   "cell_type": "code",
   "execution_count": 4,
   "id": "d72941fa",
   "metadata": {},
   "outputs": [
    {
     "name": "stderr",
     "output_type": "stream",
     "text": [
      "100%|██████████| 4331/4331 [06:21<00:00, 11.36it/s]"
     ]
    },
    {
     "name": "stdout",
     "output_type": "stream",
     "text": [
      "2371\n"
     ]
    },
    {
     "name": "stderr",
     "output_type": "stream",
     "text": [
      "\n"
     ]
    }
   ],
   "source": [
    "import urllib3, json\n",
    "from tqdm import tqdm\n",
    "http = urllib3.PoolManager()\n",
    "\n",
    "listChurch = []\n",
    "for WD, row in tqdm(WDSweChurch.iterrows(), total=WDSweChurch.shape[0]):\n",
    "    #print(row[\"churchid\"] ) \n",
    "    url = \"https://osm.wikidata.link/tagged/api/item/\" + row[\"churchid\"] \n",
    "    \n",
    "    new_item = dict()\n",
    "    new_item['wikidata'] = row[\"churchid\"] \n",
    "#    new_item['coord'] = row[\"coord\"] \n",
    "    try:\n",
    "        r = http.request('GET', url) \n",
    "        data = json.loads(r.data.decode('utf-8'))\n",
    "    except:\n",
    "        print (r.status, url)\n",
    "#    print (r.status)\n",
    "    try:\n",
    "        #print (\"OSM \", data[\"osm\"], \"Type: \", type(data[\"osm\"]))\n",
    "        #print (\"ID: \", data[\"osm\"][0][\"id\"] , \"\\tType: \", data[\"osm\"][0][\"type\"])\n",
    "        osmid = data[\"osm\"][0][\"id\"] \n",
    "        osmType = data[\"osm\"][0][\"type\"]\n",
    "        new_item['osmid'] = osmid \n",
    "        new_item['type'] = osmType\n",
    "        listChurch.append(new_item)\n",
    "        #print(listChurch)\n",
    "\n",
    "    except:\n",
    "        #print (\"error\")\n",
    "        pass\n",
    "print (len(listChurch))"
   ]
  },
  {
   "cell_type": "code",
   "execution_count": 8,
   "id": "df229342",
   "metadata": {},
   "outputs": [],
   "source": [
    "#listChurch"
   ]
  },
  {
   "cell_type": "code",
   "execution_count": 7,
   "id": "220db3b2",
   "metadata": {},
   "outputs": [
    {
     "data": {
      "text/plain": [
       "(2371, 3)"
      ]
     },
     "execution_count": 7,
     "metadata": {},
     "output_type": "execute_result"
    }
   ],
   "source": [
    "OSMtot = pd.DataFrame(listChurch,\n",
    "                  columns=['wikidata','osmid','type'])\n",
    "OSMtot.shape"
   ]
  },
  {
   "cell_type": "code",
   "execution_count": 9,
   "id": "ccfe92f9",
   "metadata": {},
   "outputs": [
    {
     "data": {
      "text/html": [
       "<div>\n",
       "<style scoped>\n",
       "    .dataframe tbody tr th:only-of-type {\n",
       "        vertical-align: middle;\n",
       "    }\n",
       "\n",
       "    .dataframe tbody tr th {\n",
       "        vertical-align: top;\n",
       "    }\n",
       "\n",
       "    .dataframe thead th {\n",
       "        text-align: right;\n",
       "    }\n",
       "</style>\n",
       "<table border=\"1\" class=\"dataframe\">\n",
       "  <thead>\n",
       "    <tr style=\"text-align: right;\">\n",
       "      <th></th>\n",
       "      <th>wikidata</th>\n",
       "      <th>osmid</th>\n",
       "      <th>type</th>\n",
       "    </tr>\n",
       "  </thead>\n",
       "  <tbody>\n",
       "    <tr>\n",
       "      <th>0</th>\n",
       "      <td>Q10398038</td>\n",
       "      <td>166372147</td>\n",
       "      <td>way</td>\n",
       "    </tr>\n",
       "    <tr>\n",
       "      <th>1</th>\n",
       "      <td>Q10399592</td>\n",
       "      <td>427761718</td>\n",
       "      <td>way</td>\n",
       "    </tr>\n",
       "    <tr>\n",
       "      <th>2</th>\n",
       "      <td>Q10400870</td>\n",
       "      <td>839880967</td>\n",
       "      <td>way</td>\n",
       "    </tr>\n",
       "    <tr>\n",
       "      <th>3</th>\n",
       "      <td>Q4682106</td>\n",
       "      <td>106745873</td>\n",
       "      <td>way</td>\n",
       "    </tr>\n",
       "    <tr>\n",
       "      <th>4</th>\n",
       "      <td>Q360572</td>\n",
       "      <td>42038493</td>\n",
       "      <td>way</td>\n",
       "    </tr>\n",
       "    <tr>\n",
       "      <th>5</th>\n",
       "      <td>Q10401444</td>\n",
       "      <td>1375024</td>\n",
       "      <td>relation</td>\n",
       "    </tr>\n",
       "    <tr>\n",
       "      <th>6</th>\n",
       "      <td>Q93797701</td>\n",
       "      <td>7782172690</td>\n",
       "      <td>node</td>\n",
       "    </tr>\n",
       "    <tr>\n",
       "      <th>7</th>\n",
       "      <td>Q31899783</td>\n",
       "      <td>323215588</td>\n",
       "      <td>way</td>\n",
       "    </tr>\n",
       "    <tr>\n",
       "      <th>8</th>\n",
       "      <td>Q10403698</td>\n",
       "      <td>176185391</td>\n",
       "      <td>way</td>\n",
       "    </tr>\n",
       "    <tr>\n",
       "      <th>9</th>\n",
       "      <td>Q10404021</td>\n",
       "      <td>840512525</td>\n",
       "      <td>way</td>\n",
       "    </tr>\n",
       "  </tbody>\n",
       "</table>\n",
       "</div>"
      ],
      "text/plain": [
       "    wikidata       osmid      type\n",
       "0  Q10398038   166372147       way\n",
       "1  Q10399592   427761718       way\n",
       "2  Q10400870   839880967       way\n",
       "3   Q4682106   106745873       way\n",
       "4    Q360572    42038493       way\n",
       "5  Q10401444     1375024  relation\n",
       "6  Q93797701  7782172690      node\n",
       "7  Q31899783   323215588       way\n",
       "8  Q10403698   176185391       way\n",
       "9  Q10404021   840512525       way"
      ]
     },
     "execution_count": 9,
     "metadata": {},
     "output_type": "execute_result"
    }
   ],
   "source": [
    "pd.set_option('max_colwidth', 400)\n",
    "OSMtot.head(10)"
   ]
  },
  {
   "cell_type": "code",
   "execution_count": 10,
   "id": "34bcf626",
   "metadata": {},
   "outputs": [],
   "source": [
    "OSMtot.to_csv(\"WDOSMChurch.csv\")"
   ]
  },
  {
   "cell_type": "code",
   "execution_count": 11,
   "id": "34880176",
   "metadata": {},
   "outputs": [
    {
     "name": "stdout",
     "output_type": "stream",
     "text": [
      "Ended:  2023-01-07 02:13:16.609709\n",
      "Time elapsed (hh:mm:ss.ms) 0:10:28.375369\n"
     ]
    }
   ],
   "source": [
    "end = datetime.now()\n",
    "print(\"Ended: \", end) \n",
    "print('Time elapsed (hh:mm:ss.ms) {}'.format(datetime.now() - start_time))"
   ]
  },
  {
   "cell_type": "code",
   "execution_count": null,
   "id": "e2900c4f",
   "metadata": {},
   "outputs": [],
   "source": []
  }
 ],
 "metadata": {
  "kernelspec": {
   "display_name": "Python 3",
   "language": "python",
   "name": "python3"
  },
  "language_info": {
   "codemirror_mode": {
    "name": "ipython",
    "version": 3
   },
   "file_extension": ".py",
   "mimetype": "text/x-python",
   "name": "python",
   "nbconvert_exporter": "python",
   "pygments_lexer": "ipython3",
   "version": "3.9.13"
  }
 },
 "nbformat": 4,
 "nbformat_minor": 5
}
