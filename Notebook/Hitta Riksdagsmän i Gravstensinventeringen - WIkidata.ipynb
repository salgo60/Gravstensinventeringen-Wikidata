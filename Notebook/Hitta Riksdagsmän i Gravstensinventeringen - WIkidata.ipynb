{
 "cells": [
  {
   "cell_type": "markdown",
   "id": "529b533e",
   "metadata": {},
   "source": [
    "### Hitta Riksdagsmän i andra/första kammaren i Gravstensinventeringen\n",
    "\n",
    "* exempel Gunnar Helen Wikidata [Q376484](https://www.wikidata.org/wiki/Q376484) = Gravstensinventeringen [379758?pid=1](https://www.rotter.se/gsi/379758%3Fpid%3D1)\n",
    "\n",
    "Idag körs ett forskningsprojekt [Välfärden analyseras](ss)/[pressrelease](https://www.umu.se/nyheter/5-miljoner-till-forskning-om-lankad-parlamentariska-data_11678700/) där en del är att identifiera alla personer som suttit i Riksdagen,. Min tanke är att hitta så många av dessa i Gravstensinventeringem\n",
    "\n",
    "1. Enklaste varianten skapa en sök URL för varje person och manuellt leta\n",
    "2. Bättre köra någon form av API om ni har det och även kontinuerligt ligga och kolla om det kommit in nya\n",
    "3. Ännu bättre om Gravstensinventeringen länkar tillbaka till Wikidata --> ni skulle kunna länka till WIkipedia [artiklar om personerna](https://w.wiki/6bgL), [bild](https://w.wiki/6bgP) eller [kyrkogårdarna](sss)\n",
    "\n",
    "Alla dom personerna finns i Wikidata idag med koppling Gravstensinventeringen \n",
    "* GITHUB [issue #22](https://github.com/salgo60/Gravstensinventeringen-Wikidata/issues/22)\n",
    "* [SPARQL fråga första /andra kammaren](https://w.wiki/6bNs)\n",
    " * med länk [sv:Wikipedia](https://w.wiki/6bfq)\n",
    "\n"
   ]
  },
  {
   "cell_type": "code",
   "execution_count": 1,
   "id": "f62d2569",
   "metadata": {},
   "outputs": [
    {
     "name": "stdout",
     "output_type": "stream",
     "text": [
      "Last run:  2023-04-18 15:15:53.841698\n"
     ]
    }
   ],
   "source": [
    "from datetime import datetime\n",
    "start_time  = datetime.now()\n",
    "print(\"Last run: \", start_time)"
   ]
  },
  {
   "cell_type": "code",
   "execution_count": 4,
   "id": "dc220eda",
   "metadata": {},
   "outputs": [
    {
     "name": "stdout",
     "output_type": "stream",
     "text": [
      "namn | birth | dead | link\n",
      "Abel Andersson | 1887-06-15 | 1964-04-30 | http://www.wikidata.org/entity/Q5553810\n",
      "Abel Sundberg | 1893-01-02 | 1974-12-22 | http://www.wikidata.org/entity/Q6195368\n",
      "Abel Vinborg | 1835-09-17 | 1914-04-12 | http://www.wikidata.org/entity/Q6225637\n",
      "Abraham Berglund | 1831-03-17 | 1905-03-22 | http://www.wikidata.org/entity/Q105065199\n",
      "Abraham Leijonhufvud | 1823-03-31 | 1911-08-31 | http://www.wikidata.org/entity/Q5945036\n",
      "Abraham Rundbäck | 1827-01-30 | 1893-06-12 | http://www.wikidata.org/entity/Q6083434\n",
      "Adam Christian Raab | 1801-08-11 | 1872-06-08 | http://www.wikidata.org/entity/Q6060104\n",
      "Adam Hult | 1870-12-11 | 1947-10-18 | http://www.wikidata.org/entity/Q5816342\n",
      "Adam Reuterskiöld | 1819-06-08 | 1880-02-12 | http://www.wikidata.org/entity/Q6068925\n"
     ]
    }
   ],
   "source": [
    "# Wikidata hämta alla Svenska Riksdagsman i första andra kammaren wd:Q33071890 wd:Q81531912 \n",
    "# pip install sparqlwrapper\n",
    "# https://rdflib.github.io/sparqlwrapper/\n",
    "\n",
    "import sys\n",
    "from datetime import datetime\n",
    "from SPARQLWrapper import SPARQLWrapper, JSON\n",
    "\n",
    "endpoint_url = \"https://query.wikidata.org/sparql\"\n",
    "\n",
    "# https://w.wiki/6bLf\n",
    "query = \"\"\"#title: Tvpkammar riksdage\n",
    "SELECT distinct ?person ?personLabel  ?birthDate ?diedDate  WHERE {\n",
    "\n",
    "  VALUES ?member {\n",
    "    wd:Q33071890 \n",
    "    wd:Q81531912 \n",
    "  }\n",
    "  ?person wdt:P39 ?member.\n",
    "  ?person wdt:P569 ?birthDate. \n",
    "  ?person wdt:P570 ?diedDate\n",
    "  SERVICE wikibase:label { bd:serviceParam wikibase:language \"sv,en\". }\n",
    "} order by ?personLabel\"\"\"\n",
    "\n",
    "\n",
    "def get_results(endpoint_url, query):\n",
    "    user_agent = \"WDQS-example Python/%s.%s\" % (sys.version_info[0], sys.version_info[1])\n",
    "    # TODO adjust user agent; see https://w.wiki/CX6\n",
    "    sparql = SPARQLWrapper(endpoint_url, agent=user_agent)\n",
    "    sparql.setQuery(query)\n",
    "    sparql.setReturnFormat(JSON)\n",
    "    return sparql.query().convert()\n",
    "\n",
    "def getDateFormatted(date_string):\n",
    "    date_format = \"%Y-%m-%dT%H:%M:%SZ\"\n",
    "    parsed_date = datetime.strptime(date_string, date_format)\n",
    "\n",
    "    formatted_date = parsed_date.strftime(\"%Y-%m-%d\")\n",
    "    return formatted_date\n",
    "\n",
    "results = get_results(endpoint_url, query)\n",
    "\n",
    "print (\"namn\",\"|\", \"birth\", \"|\" ,\"dead\", \"|\" , \"link\")\n",
    "\n",
    "for result in results[\"results\"][\"bindings\"][1:10]:\n",
    "    link = result[\"person\"][\"value\"]\n",
    "    name = result[\"personLabel\"][\"value\"]\n",
    "    birth = getDateFormatted(result[\"birthDate\"][\"value\"])\n",
    "    dead = getDateFormatted(result[\"diedDate\"][\"value\"])\n",
    "    print (name,\"|\", birth, \"|\" ,dead, \"|\" , link)\n"
   ]
  },
  {
   "cell_type": "code",
   "execution_count": null,
   "id": "375e0d87",
   "metadata": {},
   "outputs": [],
   "source": [
    "for result in results[\"results\"][\"bindings\"][1:10]:\n",
    "    link = result[\"person\"][\"value\"]\n",
    "    name = result[\"personLabel\"][\"value\"]\n",
    "    birth = getDateFormatted(result[\"birthDate\"][\"value\"])\n",
    "    dead = getDateFormatted(result[\"diedDate\"][\"value\"])\n",
    "    print (name,\"|\", birth, \"|\" ,dead, \"|\" , link)"
   ]
  },
  {
   "cell_type": "markdown",
   "id": "26ce7a25",
   "metadata": {},
   "source": [
    "## koppla dessa personer till Gravstensinventeringen\n",
    "\n",
    "1. enkel variant är bara att skapa bra sökURL:ar med förnamn, födelseår \n",
    "   1. sedan manuellt klicka sig igenm detta\n",
    "2. om det finns ett API ---> vi kan manuellt hitta detta\n",
    "   1. kunna köra det med jämna mellanrum och se om några nya kandidater dyker upp\n",
    "   1. skickar email och kollar vad som finns.... och deras tankar kanske kan dom länka tillbaka till Wikidata\n",
    "   1. Jämför SPA Svenskt Porträttas API där vi hämtar alla personer kopplade till Norra begravningsplatsen och ser om vild finns - [Notebook](https://github.com/salgo60/spa2Commons/blob/main/Notebook/SPA%20test.ipynb)\n",
    "      1. deras API har en snygg rank funktion som anger hur sannolik en träff är"
   ]
  },
  {
   "cell_type": "code",
   "execution_count": 3,
   "id": "c9599f05",
   "metadata": {},
   "outputs": [
    {
     "name": "stdout",
     "output_type": "stream",
     "text": [
      "Ended:  2023-04-18 15:15:58.888447\n",
      "Time elapsed (hh:mm:ass.ms) 0:00:05.046938\n"
     ]
    }
   ],
   "source": [
    "end = datetime.now()\n",
    "print(\"Ended: \", end) \n",
    "print('Time elapsed (hh:mm:ass.ms) {}'.format(datetime.now() - start_time))"
   ]
  },
  {
   "cell_type": "code",
   "execution_count": null,
   "id": "d3a16ea6",
   "metadata": {},
   "outputs": [],
   "source": []
  }
 ],
 "metadata": {
  "kernelspec": {
   "display_name": "Python 3",
   "language": "python",
   "name": "python3"
  },
  "language_info": {
   "codemirror_mode": {
    "name": "ipython",
    "version": 3
   },
   "file_extension": ".py",
   "mimetype": "text/x-python",
   "name": "python",
   "nbconvert_exporter": "python",
   "pygments_lexer": "ipython3",
   "version": "3.9.13"
  }
 },
 "nbformat": 4,
 "nbformat_minor": 5
}
